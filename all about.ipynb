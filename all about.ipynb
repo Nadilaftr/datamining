{
 "cells": [
  {
   "cell_type": "markdown",
   "metadata": {},
   "source": [
    "Tahapan untuk text clustering\n",
    "\n",
    "1. Load data\n",
    "2. Preprocessing (remove karakter aneh-aneh pake regex, stopwords removal, stemming atau lemma)\n",
    "3. Ekstraksi fitur pake tf idf atau yang lain\n",
    "4. Masukin ke algoritma"
   ]
  },
  {
   "cell_type": "markdown",
   "metadata": {},
   "source": [
    "# Kumpulan Library"
   ]
  },
  {
   "cell_type": "code",
   "execution_count": null,
   "metadata": {},
   "outputs": [],
   "source": [
    "import pandas as pd\n",
    "from nltk import sent_tokenize \n",
    "from nltk import word_tokenize \n",
    "from nltk.corpus import stopwords\n",
    "import regex as re"
   ]
  },
  {
   "cell_type": "markdown",
   "metadata": {},
   "source": [
    "# Load data"
   ]
  },
  {
   "cell_type": "code",
   "execution_count": null,
   "metadata": {},
   "outputs": [],
   "source": [
    "data = pd.read_excel(\"ExerciseSAClass.xlsx\")\n",
    "\n",
    "data\n",
    "\n",
    "filtered_data = data[data['Language'] == 'Spanish']\n",
    "\n",
    "filtered_data\n",
    "\n",
    "selected_columns = filtered_data[['Post ID', 'Post description', 'Language', 'Sentiment']]\n",
    "\n",
    "selected_columns"
   ]
  },
  {
   "cell_type": "markdown",
   "metadata": {},
   "source": [
    "# Preprocessing"
   ]
  },
  {
   "cell_type": "code",
   "execution_count": null,
   "metadata": {},
   "outputs": [],
   "source": [
    "from nltk import word_tokenize\n",
    "from nltk.corpus import stopwords\n",
    "import regex as re\n",
    "\n",
    "stop_words = set(stopwords.words('spanish'))  \n",
    "\n",
    "def preprocess(doc): \n",
    "    doc = re.sub(r'http\\S+|www\\S+|t\\.co\\S+', '', doc)\n",
    "    sents = word_tokenize(doc) \n",
    "    sents_tok = []  \n",
    "    \n",
    "    for s in sents: \n",
    "        s = s.strip().lower()  # Case folding dan menghilangkan new line \n",
    "        s = s.replace(\"\\n\", \" \")  # Mengganti \\n dengan spasi \n",
    "        s = re.sub(r'[0-9]+', '', s)  # Menghapus angka \n",
    "        s = re.sub(r'[^a-zA-Z ]', ' ', s)  # Menghapus simbol, kecuali spasi \n",
    "        s = re.sub(' +', ' ', s)  # Menghapus repetitive space \n",
    "        sents_tok.append(s) \n",
    "    \n",
    "    sents_tok = [word for word in ' '.join(sents_tok).split() if word not in stop_words]\n",
    "    return \" \".join(sents_tok)\n",
    "\n",
    "docs_clear = []\n",
    "for d in selected_columns[\"Post description\"]: \n",
    "    docs_clear.append(preprocess(d))\n",
    "\n",
    "docs_clear"
   ]
  },
  {
   "cell_type": "markdown",
   "metadata": {},
   "source": [
    "# Stopwords dan Stemmimg  Bahasa Indonesia"
   ]
  },
  {
   "cell_type": "code",
   "execution_count": null,
   "metadata": {},
   "outputs": [],
   "source": [
    "from Sastrawi.StopWordRemover.StopWordRemoverFactory import StopWordRemoverFactory\n",
    "from nltk.tokenize import word_tokenize\n",
    "factory = StopWordRemoverFactory()\n",
    "stopword = factory.create_stop_word_remover()\n",
    "\n",
    "stop_docs = []\n",
    "\n",
    "for doc in docs_clear:\n",
    "    cleaned_doc = stopword.remove(doc)\n",
    "    stop_docs.append(cleaned_doc)\n",
    "\n",
    "stop_docs"
   ]
  },
  {
   "cell_type": "code",
   "execution_count": null,
   "metadata": {},
   "outputs": [],
   "source": [
    "from Sastrawi.Stemmer.StemmerFactory import StemmerFactory\n",
    "\n",
    "stemmer = StemmerFactory().create_stemmer()\n",
    "\n",
    "stemmed_docs = []\n",
    "\n",
    "for doc in stop_docs:\n",
    "    stemmed_doc = stemmer.stem(doc)\n",
    "    stemmed_docs.append(stemmed_doc)"
   ]
  },
  {
   "cell_type": "markdown",
   "metadata": {},
   "source": [
    "# STopwords dan Stemming bahasa luar"
   ]
  },
  {
   "cell_type": "code",
   "execution_count": null,
   "metadata": {},
   "outputs": [],
   "source": [
    "from nltk import word_tokenize\n",
    "from nltk.corpus import stopwords\n",
    "from nltk.stem import PorterStemmer\n",
    "\n",
    "a = set(stopwords.words('english'))\n",
    "\n",
    "stemmer = PorterStemmer()\n",
    "\n",
    "stop_stem_docs = []\n",
    "\n",
    "for doc in docs_clear:\n",
    "    tokens = word_tokenize(doc.lower())\n",
    "    cleaned_doc = [x for x in tokens if x not in a]\n",
    "    stemmed_doc = [stemmer.stem(word) for word in cleaned_doc]\n",
    "    stop_stem_docs.append(stemmed_doc)\n",
    "\n",
    "stop_stem_docs\n"
   ]
  },
  {
   "cell_type": "markdown",
   "metadata": {},
   "source": [
    "# Ekstraksi Fitur\n",
    "\n",
    "## TF IDF"
   ]
  },
  {
   "cell_type": "code",
   "execution_count": null,
   "metadata": {},
   "outputs": [],
   "source": [
    "# representasi vektor dengan VSM-TFIDF\n",
    "from sklearn.feature_extraction.text import TfidfVectorizer\n",
    "from sklearn import cluster\n",
    "\n",
    "tfidf_vectorizer = TfidfVectorizer(max_df=0.50, min_df = 2)\n",
    "X = tfidf_vectorizer.fit_transform(stemmed_docs)\n",
    "print(X)"
   ]
  },
  {
   "cell_type": "markdown",
   "metadata": {},
   "source": [
    "## BoW"
   ]
  },
  {
   "cell_type": "code",
   "execution_count": null,
   "metadata": {},
   "outputs": [],
   "source": [
    "from sklearn.feature_extraction.text import CountVectorizer\n",
    "\n",
    "bow_vectorizer = CountVectorizer(max_df=0.50, min_df=2)\n",
    "X_bow = bow_vectorizer.fit_transform(stemmed_docs)\n",
    "\n",
    "print(X_bow.toarray())"
   ]
  },
  {
   "cell_type": "markdown",
   "metadata": {},
   "source": [
    "## Word2Vec"
   ]
  },
  {
   "cell_type": "markdown",
   "metadata": {},
   "source": [
    "# Model atau algoritma clustering"
   ]
  },
  {
   "cell_type": "markdown",
   "metadata": {},
   "source": [
    "## KMEANS"
   ]
  },
  {
   "cell_type": "code",
   "execution_count": null,
   "metadata": {},
   "outputs": [],
   "source": [
    "from sklearn import cluster\n",
    "from sklearn.metrics import silhouette_score\n",
    "\n",
    "k = 3\n",
    "seed = 99\n",
    "\n",
    "km = cluster.KMeans(n_clusters=k, init='random', random_state=seed)\n",
    "km.fit(X)\n",
    "\n",
    "C_km = km.predict(X)\n",
    "\n",
    "sil_score = silhouette_score(X, C_km)\n",
    "\n",
    "print(\"Cluster assignment:\", C_km)\n",
    "print(\"Silhouette Score:\", sil_score)\n"
   ]
  },
  {
   "cell_type": "markdown",
   "metadata": {},
   "source": [
    "## KMEANS ++"
   ]
  },
  {
   "cell_type": "code",
   "execution_count": null,
   "metadata": {},
   "outputs": [],
   "source": [
    "from sklearn.cluster import KMeans\n",
    "from sklearn.metrics import silhouette_score\n",
    "\n",
    "kmeans_pp = KMeans(n_clusters=3, init='k-means++', random_state=seed)\n",
    "kmeans_pp.fit(X)\n",
    "\n",
    "C_kmeans_pp = kmeans_pp.predict(X)\n",
    "sil_score_kmeans_pp = silhouette_score(X, C_kmeans_pp)\n",
    "\n",
    "print(\"Cluster assignment (KMeans++):\", C_kmeans_pp)\n",
    "print(\"Silhouette Score (KMeans++):\", sil_score_kmeans_pp)\n"
   ]
  },
  {
   "cell_type": "markdown",
   "metadata": {},
   "source": [
    "## DBSCAN"
   ]
  },
  {
   "cell_type": "code",
   "execution_count": null,
   "metadata": {},
   "outputs": [],
   "source": [
    "from sklearn.cluster import DBSCAN\n",
    "from sklearn.metrics import silhouette_score\n",
    "\n",
    "dbscan = DBSCAN(eps=0.5, min_samples=5)\n",
    "C_dbscan = dbscan.fit_predict(X)\n",
    "\n",
    "if len(set(C_dbscan)) > 1:\n",
    "    sil_score_dbscan = silhouette_score(X, C_dbscan)\n",
    "    print(\"Silhouette Score (DBSCAN):\", sil_score_dbscan)\n",
    "else:\n",
    "    print(\"DBSCAN menghasilkan hanya satu cluster atau outlier, Silhouette Score tidak dapat dihitung.\")\n",
    "\n",
    "print(\"Cluster assignment (DBSCAN):\", C_dbscan)\n"
   ]
  },
  {
   "cell_type": "markdown",
   "metadata": {},
   "source": [
    "## Fuzzy C Means"
   ]
  },
  {
   "cell_type": "code",
   "execution_count": null,
   "metadata": {},
   "outputs": [],
   "source": [
    "import numpy as np\n",
    "import skfuzzy as fuzz\n",
    "from sklearn.metrics import silhouette_score\n",
    "\n",
    "cntr, u, u0, d, jm, p, fpc = fuzz.cluster.cmeans(X.T, c=3, m=2, error=0.005, maxiter=1000, init=None)\n",
    "C_fcm = np.argmax(u, axis=0)\n",
    "\n",
    "sil_score_fcm = silhouette_score(X, C_fcm)\n",
    "\n",
    "print(\"Cluster assignment (Fuzzy C-Means):\", C_fcm)\n",
    "print(\"Silhouette Score (Fuzzy C-Means):\", sil_score_fcm)\n"
   ]
  },
  {
   "cell_type": "markdown",
   "metadata": {},
   "source": [
    "## Hierarchical"
   ]
  },
  {
   "cell_type": "code",
   "execution_count": null,
   "metadata": {},
   "outputs": [],
   "source": [
    "from sklearn.cluster import AgglomerativeClustering\n",
    "from sklearn.metrics import silhouette_score\n",
    "\n",
    "agg_clustering = AgglomerativeClustering(n_clusters=3)\n",
    "C_agg = agg_clustering.fit_predict(X)\n",
    "\n",
    "sil_score_agg = silhouette_score(X, C_agg)\n",
    "\n",
    "print(\"Cluster assignment (Agglomerative):\", C_agg)\n",
    "print(\"Silhouette Score (Agglomerative):\", sil_score_agg)\n"
   ]
  },
  {
   "cell_type": "markdown",
   "metadata": {},
   "source": [
    "## Mean Shift"
   ]
  },
  {
   "cell_type": "code",
   "execution_count": null,
   "metadata": {},
   "outputs": [],
   "source": [
    "from sklearn.cluster import MeanShift\n",
    "from sklearn.metrics import silhouette_score\n",
    "\n",
    "mean_shift = MeanShift()\n",
    "C_ms = mean_shift.fit_predict(X)\n",
    "\n",
    "sil_score_ms = silhouette_score(X, C_ms)\n",
    "\n",
    "print(\"Cluster assignment (Mean Shift):\", C_ms)\n",
    "print(\"Silhouette Score (Mean Shift):\", sil_score_ms)\n"
   ]
  },
  {
   "cell_type": "markdown",
   "metadata": {},
   "source": [
    "# Evaluasi Score"
   ]
  }
 ],
 "metadata": {
  "kernelspec": {
   "display_name": "Python 3",
   "language": "python",
   "name": "python3"
  },
  "language_info": {
   "name": "python",
   "version": "3.11.0"
  }
 },
 "nbformat": 4,
 "nbformat_minor": 2
}
